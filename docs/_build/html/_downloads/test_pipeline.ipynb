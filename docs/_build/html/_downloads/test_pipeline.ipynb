{
  "metadata": {
    "kernelspec": {
      "language": "python",
      "display_name": "Python 3",
      "name": "python3"
    },
    "language_info": {
      "pygments_lexer": "ipython3",
      "file_extension": ".py",
      "codemirror_mode": {
        "name": "ipython",
        "version": 3
      },
      "version": "3.5.4",
      "mimetype": "text/x-python",
      "name": "python",
      "nbconvert_exporter": "python"
    }
  },
  "nbformat": 4,
  "cells": [
    {
      "metadata": {
        "collapsed": false
      },
      "source": [
        "%matplotlib inline"
      ],
      "cell_type": "code",
      "execution_count": null,
      "outputs": []
    },
    {
      "metadata": {},
      "source": [
        "Tests for pipeline\n"
      ],
      "cell_type": "markdown"
    },
    {
      "metadata": {
        "collapsed": false
      },
      "source": [
        "import sys\nsys.path.append('/home/mi/salt3/SALT3/salt3')\nfrom pipeline.pipeline import *\n\ndef test_pipeline():\n    pipe = SALT3pipe(finput='sampleinput_test.txt')\n    pipe.configure()\n    pipe.run()\n\ntest_pipeline()"
      ],
      "cell_type": "code",
      "execution_count": null,
      "outputs": []
    }
  ],
  "nbformat_minor": 0
}