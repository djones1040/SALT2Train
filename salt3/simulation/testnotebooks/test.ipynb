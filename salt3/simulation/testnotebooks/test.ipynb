{
 "cells": [
  {
   "cell_type": "code",
   "execution_count": 1,
   "metadata": {},
   "outputs": [],
   "source": [
    "import sys\n",
    "sys.path.append('/home/mi/SALT3/salt3/simulation')\n",
    "import sim\n",
    "import importlib"
   ]
  },
  {
   "cell_type": "code",
   "execution_count": 10,
   "metadata": {},
   "outputs": [
    {
     "name": "stdout",
     "output_type": "stream",
     "text": [
      "SNANA sim finished successfully.\n"
     ]
    }
   ],
   "source": [
    "importlib.reload(sim)\n",
    "sim.run_snana_sim(siminput=\"sim_input_test.input\")"
   ]
  },
  {
   "cell_type": "code",
   "execution_count": 9,
   "metadata": {},
   "outputs": [
    {
     "name": "stdout",
     "output_type": "stream",
     "text": [
      "Load base sim input file..\n",
      "Setting GENVERSION = TEST2\n",
      "Setting NGEN_LC = 10\n",
      "Adding key SEARCHEFF_PIPELINE_FILE=siminputs/SEARCHEFF_PIPELINE_PS1.DAT\n",
      "Write sim input to file: sim_input_test.input\n"
     ]
    }
   ],
   "source": [
    "importlib.reload(sim)\n",
    "sim.gen_snana_input(GENVERSION=\"TEST2\",NGEN_LC=\"10\",SEARCHEFF_PIPELINE_FILE=\"siminputs/SEARCHEFF_PIPELINE_PS1.DAT\")"
   ]
  },
  {
   "cell_type": "code",
   "execution_count": null,
   "metadata": {},
   "outputs": [],
   "source": []
  }
 ],
 "metadata": {
  "kernelspec": {
   "display_name": "Python 3",
   "language": "python",
   "name": "python3"
  },
  "language_info": {
   "codemirror_mode": {
    "name": "ipython",
    "version": 3
   },
   "file_extension": ".py",
   "mimetype": "text/x-python",
   "name": "python",
   "nbconvert_exporter": "python",
   "pygments_lexer": "ipython3",
   "version": "3.6.4"
  }
 },
 "nbformat": 4,
 "nbformat_minor": 2
}
