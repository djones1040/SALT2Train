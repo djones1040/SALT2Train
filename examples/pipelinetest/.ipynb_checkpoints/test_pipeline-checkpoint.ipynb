{
 "cells": [
  {
   "cell_type": "code",
   "execution_count": 3,
   "metadata": {},
   "outputs": [],
   "source": [
    "import sys\n",
    "sys.path.append('/home/mi/salt3/SALT3/salt3')\n",
    "import pandas as pd\n",
    "from importlib import reload\n",
    "import pipeline.pipeline\n",
    "reload(pipeline.pipeline)\n",
    "from pipeline.pipeline import *\n"
   ]
  },
  {
   "cell_type": "code",
   "execution_count": 4,
   "metadata": {},
   "outputs": [],
   "source": [
    "%load_ext autoreload\n",
    "%autoreload 2"
   ]
  },
  {
   "cell_type": "code",
   "execution_count": 5,
   "metadata": {},
   "outputs": [],
   "source": [
    "def test_pipeline():\n",
    "    pipe = SALT3pipe(finput='sampleinput.txt')\n",
    "    pipe.build(data=False,mode='customize',onlyrun='sim')\n",
    "    pipe.configure()\n",
    "#     pipe.glue(['sim','train'])\n",
    "    pipe.run()\n",
    "    pipe.build(data=False,mode='customize',onlyrun=['train'])\n",
    "    pipe.configure()\n",
    "    pipe.glue(['train','lcfit'],on='model')\n",
    "    pipe.build(data=False,mode='customize',onlyrun=['lcfit'])\n",
    "    pipe.configure()\n",
    "    pipe.glue(['sim','lcfit'],on='phot')\n",
    "    pipe.build(data=False,mode='customize',onlyrun=['lcfit','getmu','cosmofit'])\n",
    "    pipe.configure()\n",
    "    pipe.glue(['lcfit','getmu'])\n",
    "    pipe.glue(['getmu','cosmofit'])\n",
    "    pipe.build(data=False,mode='customize',skip=['byosed','sim','train'])\n",
    "    pipe.run()"
   ]
  },
  {
   "cell_type": "code",
   "execution_count": 6,
   "metadata": {},
   "outputs": [
    {
     "name": "stdout",
     "output_type": "stream",
     "text": [
      "Current procedures:  ['sim']\n",
      "Load base sim input file.. simulation/SIMGEN_SALT3TEST.INPUT\n",
      "Setting NGEN_LC = 20\n",
      "Setting GENSOURCE = RANDOM\n",
      "Setting GENRANGE_REDSHIFT = 0.01 0.1\n",
      "Write sim input to file: pipelinetest/TEST_SIMGEN_SALT3TEST.INPUT\n",
      "Running snlc_sim.exe pipelinetest/TEST_SIMGEN_SALT3TEST.INPUT\n",
      "snlc_sim.exe finished successfully.\n",
      "Current procedures:  ['lcfit']\n",
      "Adding/modifying key VERSION_PHOTOMETRY=SALT3TEST_SIMPLE in &SNLCINP\n",
      "Adding/modifying key KCOR_FILE=kcor/kcor_PS1_LOWZ_COMBINED.fits in &SNLCINP\n",
      "Adding/modifying key FILTLIST_FIT=bcdeghi in &FITINP\n",
      "Write fit input to file: pipelinetest/snfit_TEST.nml\n",
      "Connecting  ['sim', 'lcfit']\n",
      "Adding/modifying key VERSION_PHOTOMETRY=SALT3TEST_SIMPLE in &SNLCINP\n",
      "Write fit input to file: pipelinetest/snfit_TEST.nml\n",
      "Current procedures:  ['train']\n",
      "Adding/modifying key snlist=exampledata/snana/data/SALT3TEST_SIMPLE.LIST in [iodata]\n",
      "Adding/modifying key waverange=2000,9200 in [trainparams]\n",
      "Adding/modifying key n_steps_mcmc=50 in [mcmcparams]\n",
      "Adding/modifying key n_burnin_mcmc=10 in [mcmcparams]\n",
      "input file saved as: pipelinetest/TEST_SALT.conf\n",
      "salt3 model files copied to lcfitting/SALT3.test\n",
      "Connecting  ['train', 'lcfit']\n",
      "Adding/modifying key FITMODEL_NAME=lcfitting/SALT3.test in &FITINP\n",
      "Write fit input to file: pipelinetest/snfit_TEST.nml\n",
      "Current procedures:  ['lcfit', 'getmu', 'cosmofit']\n",
      "Adding/modifying key VERSION_PHOTOMETRY=SALT3TEST_SIMPLE in &SNLCINP\n",
      "Adding/modifying key KCOR_FILE=kcor/kcor_PS1_LOWZ_COMBINED.fits in &SNLCINP\n",
      "Adding/modifying key FILTLIST_FIT=bcdeghi in &FITINP\n",
      "Write fit input to file: pipelinetest/snfit_TEST.nml\n",
      "Adding/modifying key file=ps1sim_default.fitres\n",
      "Adding/modifying key prefix=test_salt2mu\n",
      "input file saved as: pipelinetest/test_salt2mu.input\n",
      "Connecting  ['lcfit', 'getmu']\n",
      "Adding/modifying key file=snfit_test.FITRES.TEXT\n",
      "input file saved as: pipelinetest/test_salt2mu.input\n",
      "Connecting  ['getmu', 'cosmofit']\n",
      "Current procedures:  ['lcfit', 'getmu', 'cosmofit']\n",
      "Running snlc_fit.exe pipelinetest/snfit_TEST.nml\n"
     ]
    },
    {
     "ename": "ValueError",
     "evalue": "Something went wrong..",
     "output_type": "error",
     "traceback": [
      "\u001b[0;31m---------------------------------------------------------------------------\u001b[0m",
      "\u001b[0;31mValueError\u001b[0m                                Traceback (most recent call last)",
      "\u001b[0;32m<ipython-input-6-b55dbbf64ace>\u001b[0m in \u001b[0;36m<module>\u001b[0;34m()\u001b[0m\n\u001b[0;32m----> 1\u001b[0;31m \u001b[0mtest_pipeline\u001b[0m\u001b[0;34m(\u001b[0m\u001b[0;34m)\u001b[0m\u001b[0;34m\u001b[0m\u001b[0;34m\u001b[0m\u001b[0m\n\u001b[0m",
      "\u001b[0;32m<ipython-input-5-5c2bcc3eb8de>\u001b[0m in \u001b[0;36mtest_pipeline\u001b[0;34m()\u001b[0m\n\u001b[1;32m     16\u001b[0m     \u001b[0mpipe\u001b[0m\u001b[0;34m.\u001b[0m\u001b[0mglue\u001b[0m\u001b[0;34m(\u001b[0m\u001b[0;34m[\u001b[0m\u001b[0;34m'getmu'\u001b[0m\u001b[0;34m,\u001b[0m\u001b[0;34m'cosmofit'\u001b[0m\u001b[0;34m]\u001b[0m\u001b[0;34m)\u001b[0m\u001b[0;34m\u001b[0m\u001b[0;34m\u001b[0m\u001b[0m\n\u001b[1;32m     17\u001b[0m     \u001b[0mpipe\u001b[0m\u001b[0;34m.\u001b[0m\u001b[0mbuild\u001b[0m\u001b[0;34m(\u001b[0m\u001b[0mdata\u001b[0m\u001b[0;34m=\u001b[0m\u001b[0;32mFalse\u001b[0m\u001b[0;34m,\u001b[0m\u001b[0mmode\u001b[0m\u001b[0;34m=\u001b[0m\u001b[0;34m'customize'\u001b[0m\u001b[0;34m,\u001b[0m\u001b[0mskip\u001b[0m\u001b[0;34m=\u001b[0m\u001b[0;34m[\u001b[0m\u001b[0;34m'byosed'\u001b[0m\u001b[0;34m,\u001b[0m\u001b[0;34m'sim'\u001b[0m\u001b[0;34m,\u001b[0m\u001b[0;34m'train'\u001b[0m\u001b[0;34m]\u001b[0m\u001b[0;34m)\u001b[0m\u001b[0;34m\u001b[0m\u001b[0;34m\u001b[0m\u001b[0m\n\u001b[0;32m---> 18\u001b[0;31m     \u001b[0mpipe\u001b[0m\u001b[0;34m.\u001b[0m\u001b[0mrun\u001b[0m\u001b[0;34m(\u001b[0m\u001b[0;34m)\u001b[0m\u001b[0;34m\u001b[0m\u001b[0;34m\u001b[0m\u001b[0m\n\u001b[0m",
      "\u001b[0;32m/home/mi/salt3/SALT3/salt3/pipeline/pipeline.py\u001b[0m in \u001b[0;36mrun\u001b[0;34m(self)\u001b[0m\n\u001b[1;32m    117\u001b[0m         \u001b[0;32mfor\u001b[0m \u001b[0mprostr\u001b[0m \u001b[0;32min\u001b[0m \u001b[0mself\u001b[0m\u001b[0;34m.\u001b[0m\u001b[0mpipepros\u001b[0m\u001b[0;34m:\u001b[0m\u001b[0;34m\u001b[0m\u001b[0;34m\u001b[0m\u001b[0m\n\u001b[1;32m    118\u001b[0m             \u001b[0mpipepro\u001b[0m \u001b[0;34m=\u001b[0m \u001b[0mself\u001b[0m\u001b[0;34m.\u001b[0m\u001b[0m_get_pipepro_from_string\u001b[0m\u001b[0;34m(\u001b[0m\u001b[0mprostr\u001b[0m\u001b[0;34m)\u001b[0m\u001b[0;34m\u001b[0m\u001b[0;34m\u001b[0m\u001b[0m\n\u001b[0;32m--> 119\u001b[0;31m             \u001b[0mpipepro\u001b[0m\u001b[0;34m.\u001b[0m\u001b[0mrun\u001b[0m\u001b[0;34m(\u001b[0m\u001b[0;34m)\u001b[0m\u001b[0;34m\u001b[0m\u001b[0;34m\u001b[0m\u001b[0m\n\u001b[0m\u001b[1;32m    120\u001b[0m         \u001b[0;31m# self.Simulation.run()\u001b[0m\u001b[0;34m\u001b[0m\u001b[0;34m\u001b[0m\u001b[0;34m\u001b[0m\u001b[0m\n\u001b[1;32m    121\u001b[0m         \u001b[0;31m# self.Training.run()\u001b[0m\u001b[0;34m\u001b[0m\u001b[0;34m\u001b[0m\u001b[0;34m\u001b[0m\u001b[0m\n",
      "\u001b[0;32m/home/mi/salt3/SALT3/salt3/pipeline/pipeline.py\u001b[0m in \u001b[0;36mrun\u001b[0;34m(self)\u001b[0m\n\u001b[1;32m    232\u001b[0m                 \u001b[0;32mfor\u001b[0m \u001b[0margitem\u001b[0m \u001b[0;32min\u001b[0m \u001b[0marg\u001b[0m\u001b[0;34m.\u001b[0m\u001b[0msplit\u001b[0m\u001b[0;34m(\u001b[0m\u001b[0;34m' '\u001b[0m\u001b[0;34m)\u001b[0m\u001b[0;34m:\u001b[0m\u001b[0;34m\u001b[0m\u001b[0;34m\u001b[0m\u001b[0m\n\u001b[1;32m    233\u001b[0m                     \u001b[0margs\u001b[0m\u001b[0;34m.\u001b[0m\u001b[0mappend\u001b[0m\u001b[0;34m(\u001b[0m\u001b[0margitem\u001b[0m\u001b[0;34m)\u001b[0m\u001b[0;34m\u001b[0m\u001b[0;34m\u001b[0m\u001b[0m\n\u001b[0;32m--> 234\u001b[0;31m         \u001b[0m_run_external_pro\u001b[0m\u001b[0;34m(\u001b[0m\u001b[0mself\u001b[0m\u001b[0;34m.\u001b[0m\u001b[0mpro\u001b[0m\u001b[0;34m,\u001b[0m \u001b[0margs\u001b[0m\u001b[0;34m)\u001b[0m\u001b[0;34m\u001b[0m\u001b[0;34m\u001b[0m\u001b[0m\n\u001b[0m\u001b[1;32m    235\u001b[0m \u001b[0;34m\u001b[0m\u001b[0m\n\u001b[1;32m    236\u001b[0m     \u001b[0;32mdef\u001b[0m \u001b[0m_get_input_info\u001b[0m\u001b[0;34m(\u001b[0m\u001b[0mself\u001b[0m\u001b[0;34m)\u001b[0m\u001b[0;34m:\u001b[0m\u001b[0;34m\u001b[0m\u001b[0;34m\u001b[0m\u001b[0m\n",
      "\u001b[0;32m/home/mi/salt3/SALT3/salt3/pipeline/pipeline.py\u001b[0m in \u001b[0;36m_run_external_pro\u001b[0;34m(pro, args)\u001b[0m\n\u001b[1;32m    518\u001b[0m         \u001b[0mprint\u001b[0m\u001b[0;34m(\u001b[0m\u001b[0;34m\"{} finished successfully.\"\u001b[0m\u001b[0;34m.\u001b[0m\u001b[0mformat\u001b[0m\u001b[0;34m(\u001b[0m\u001b[0mpro\u001b[0m\u001b[0;34m.\u001b[0m\u001b[0mstrip\u001b[0m\u001b[0;34m(\u001b[0m\u001b[0;34m)\u001b[0m\u001b[0;34m)\u001b[0m\u001b[0;34m)\u001b[0m\u001b[0;34m\u001b[0m\u001b[0;34m\u001b[0m\u001b[0m\n\u001b[1;32m    519\u001b[0m     \u001b[0;32melse\u001b[0m\u001b[0;34m:\u001b[0m\u001b[0;34m\u001b[0m\u001b[0;34m\u001b[0m\u001b[0m\n\u001b[0;32m--> 520\u001b[0;31m         \u001b[0;32mraise\u001b[0m \u001b[0mValueError\u001b[0m\u001b[0;34m(\u001b[0m\u001b[0;34m\"Something went wrong..\"\u001b[0m\u001b[0;34m)\u001b[0m \u001b[0;31m##possible to pass the error msg from the program?\u001b[0m\u001b[0;34m\u001b[0m\u001b[0;34m\u001b[0m\u001b[0m\n\u001b[0m\u001b[1;32m    521\u001b[0m \u001b[0;34m\u001b[0m\u001b[0m\n\u001b[1;32m    522\u001b[0m     \u001b[0;32mreturn\u001b[0m\u001b[0;34m\u001b[0m\u001b[0;34m\u001b[0m\u001b[0m\n",
      "\u001b[0;31mValueError\u001b[0m: Something went wrong.."
     ]
    }
   ],
   "source": [
    "test_pipeline()"
   ]
  },
  {
   "cell_type": "code",
   "execution_count": 15,
   "metadata": {},
   "outputs": [],
   "source": [
    "def test_pipeline_data():\n",
    "    pipe = SALT3pipe(finput='sampleinput_test.txt')\n",
    "    pipe.build(data=True,mode='customize',skip='train')\n",
    "    pipe.configure()\n",
    "#     pipe.glue(['data','train'])\n",
    "    pipe.glue(['data','lcfit'],on='phot')\n",
    "    pipe.glue(['lcfit','getmu'])\n",
    "    pipe.glue(['getmu','cosmofit'])\n",
    "    pipe.run()"
   ]
  },
  {
   "cell_type": "code",
   "execution_count": 16,
   "metadata": {},
   "outputs": [
    {
     "name": "stdout",
     "output_type": "stream",
     "text": [
      "['data', 'lcfit', 'getmu', 'cosmofit']\n",
      "Adding/modifying key VERSION_PHOTOMETRY=SALT3TEST_SIMPLE in &SNLCINP\n",
      "Adding/modifying key KCOR_FILE=kcor/kcor_PS1_LOWZ_COMBINED.fits in &SNLCINP\n",
      "Adding/modifying key FILTLIST_FIT=bcdeghi in &FITINP\n",
      "Write fit input to file: pipelinetest/snfit_TEST.nml\n",
      "Adding/modifying key file=ps1sim_default.fitres\n",
      "Adding/modifying key prefix=test_salt2mu\n",
      "input file saved as: pipelinetest/test_salt2mu.input\n",
      "Connecting  ['data', 'lcfit']\n",
      "Adding/modifying key VERSION_PHOTOMETRY=BYOSEDTEST in &SNLCINP\n",
      "Write fit input to file: pipelinetest/snfit_TEST.nml\n",
      "Connecting  ['lcfit', 'getmu']\n",
      "Adding/modifying key file=snfit_test.FITRES.TEXT\n",
      "input file saved as: pipelinetest/test_salt2mu.input\n",
      "Connecting  ['getmu', 'cosmofit']\n",
      "Running snlc_fit.exe pipelinetest/snfit_TEST.nml\n"
     ]
    },
    {
     "ename": "ValueError",
     "evalue": "Something went wrong..",
     "output_type": "error",
     "traceback": [
      "\u001b[0;31m---------------------------------------------------------------------------\u001b[0m",
      "\u001b[0;31mValueError\u001b[0m                                Traceback (most recent call last)",
      "\u001b[0;32m<ipython-input-16-375dd613a313>\u001b[0m in \u001b[0;36m<module>\u001b[0;34m()\u001b[0m\n\u001b[0;32m----> 1\u001b[0;31m \u001b[0mtest_pipeline_data\u001b[0m\u001b[0;34m(\u001b[0m\u001b[0;34m)\u001b[0m\u001b[0;34m\u001b[0m\u001b[0;34m\u001b[0m\u001b[0m\n\u001b[0m",
      "\u001b[0;32m<ipython-input-15-beccfe1bc82a>\u001b[0m in \u001b[0;36mtest_pipeline_data\u001b[0;34m()\u001b[0m\n\u001b[1;32m      7\u001b[0m     \u001b[0mpipe\u001b[0m\u001b[0;34m.\u001b[0m\u001b[0mglue\u001b[0m\u001b[0;34m(\u001b[0m\u001b[0;34m[\u001b[0m\u001b[0;34m'lcfit'\u001b[0m\u001b[0;34m,\u001b[0m\u001b[0;34m'getmu'\u001b[0m\u001b[0;34m]\u001b[0m\u001b[0;34m)\u001b[0m\u001b[0;34m\u001b[0m\u001b[0;34m\u001b[0m\u001b[0m\n\u001b[1;32m      8\u001b[0m     \u001b[0mpipe\u001b[0m\u001b[0;34m.\u001b[0m\u001b[0mglue\u001b[0m\u001b[0;34m(\u001b[0m\u001b[0;34m[\u001b[0m\u001b[0;34m'getmu'\u001b[0m\u001b[0;34m,\u001b[0m\u001b[0;34m'cosmofit'\u001b[0m\u001b[0;34m]\u001b[0m\u001b[0;34m)\u001b[0m\u001b[0;34m\u001b[0m\u001b[0;34m\u001b[0m\u001b[0m\n\u001b[0;32m----> 9\u001b[0;31m     \u001b[0mpipe\u001b[0m\u001b[0;34m.\u001b[0m\u001b[0mrun\u001b[0m\u001b[0;34m(\u001b[0m\u001b[0;34m)\u001b[0m\u001b[0;34m\u001b[0m\u001b[0;34m\u001b[0m\u001b[0m\n\u001b[0m",
      "\u001b[0;32m/home/mi/salt3/SALT3/salt3/pipeline/pipeline.py\u001b[0m in \u001b[0;36mrun\u001b[0;34m(self)\u001b[0m\n\u001b[1;32m    111\u001b[0m         \u001b[0;32mfor\u001b[0m \u001b[0mprostr\u001b[0m \u001b[0;32min\u001b[0m \u001b[0mself\u001b[0m\u001b[0;34m.\u001b[0m\u001b[0mpipepros\u001b[0m\u001b[0;34m:\u001b[0m\u001b[0;34m\u001b[0m\u001b[0;34m\u001b[0m\u001b[0m\n\u001b[1;32m    112\u001b[0m             \u001b[0mpipepro\u001b[0m \u001b[0;34m=\u001b[0m \u001b[0mself\u001b[0m\u001b[0;34m.\u001b[0m\u001b[0m_get_pipepro_from_string\u001b[0m\u001b[0;34m(\u001b[0m\u001b[0mprostr\u001b[0m\u001b[0;34m)\u001b[0m\u001b[0;34m\u001b[0m\u001b[0;34m\u001b[0m\u001b[0m\n\u001b[0;32m--> 113\u001b[0;31m             \u001b[0mpipepro\u001b[0m\u001b[0;34m.\u001b[0m\u001b[0mrun\u001b[0m\u001b[0;34m(\u001b[0m\u001b[0;34m)\u001b[0m\u001b[0;34m\u001b[0m\u001b[0;34m\u001b[0m\u001b[0m\n\u001b[0m\u001b[1;32m    114\u001b[0m         \u001b[0;31m# self.Simulation.run()\u001b[0m\u001b[0;34m\u001b[0m\u001b[0;34m\u001b[0m\u001b[0;34m\u001b[0m\u001b[0m\n\u001b[1;32m    115\u001b[0m         \u001b[0;31m# self.Training.run()\u001b[0m\u001b[0;34m\u001b[0m\u001b[0;34m\u001b[0m\u001b[0;34m\u001b[0m\u001b[0m\n",
      "\u001b[0;32m/home/mi/salt3/SALT3/salt3/pipeline/pipeline.py\u001b[0m in \u001b[0;36mrun\u001b[0;34m(self)\u001b[0m\n\u001b[1;32m    226\u001b[0m                 \u001b[0;32mfor\u001b[0m \u001b[0margitem\u001b[0m \u001b[0;32min\u001b[0m \u001b[0marg\u001b[0m\u001b[0;34m.\u001b[0m\u001b[0msplit\u001b[0m\u001b[0;34m(\u001b[0m\u001b[0;34m' '\u001b[0m\u001b[0;34m)\u001b[0m\u001b[0;34m:\u001b[0m\u001b[0;34m\u001b[0m\u001b[0;34m\u001b[0m\u001b[0m\n\u001b[1;32m    227\u001b[0m                     \u001b[0margs\u001b[0m\u001b[0;34m.\u001b[0m\u001b[0mappend\u001b[0m\u001b[0;34m(\u001b[0m\u001b[0margitem\u001b[0m\u001b[0;34m)\u001b[0m\u001b[0;34m\u001b[0m\u001b[0;34m\u001b[0m\u001b[0m\n\u001b[0;32m--> 228\u001b[0;31m         \u001b[0m_run_external_pro\u001b[0m\u001b[0;34m(\u001b[0m\u001b[0mself\u001b[0m\u001b[0;34m.\u001b[0m\u001b[0mpro\u001b[0m\u001b[0;34m,\u001b[0m \u001b[0margs\u001b[0m\u001b[0;34m)\u001b[0m\u001b[0;34m\u001b[0m\u001b[0;34m\u001b[0m\u001b[0m\n\u001b[0m\u001b[1;32m    229\u001b[0m \u001b[0;34m\u001b[0m\u001b[0m\n\u001b[1;32m    230\u001b[0m     \u001b[0;32mdef\u001b[0m \u001b[0m_get_input_info\u001b[0m\u001b[0;34m(\u001b[0m\u001b[0mself\u001b[0m\u001b[0;34m)\u001b[0m\u001b[0;34m:\u001b[0m\u001b[0;34m\u001b[0m\u001b[0;34m\u001b[0m\u001b[0m\n",
      "\u001b[0;32m/home/mi/salt3/SALT3/salt3/pipeline/pipeline.py\u001b[0m in \u001b[0;36m_run_external_pro\u001b[0;34m(pro, args)\u001b[0m\n\u001b[1;32m    512\u001b[0m         \u001b[0mprint\u001b[0m\u001b[0;34m(\u001b[0m\u001b[0;34m\"{} finished successfully.\"\u001b[0m\u001b[0;34m.\u001b[0m\u001b[0mformat\u001b[0m\u001b[0;34m(\u001b[0m\u001b[0mpro\u001b[0m\u001b[0;34m.\u001b[0m\u001b[0mstrip\u001b[0m\u001b[0;34m(\u001b[0m\u001b[0;34m)\u001b[0m\u001b[0;34m)\u001b[0m\u001b[0;34m)\u001b[0m\u001b[0;34m\u001b[0m\u001b[0;34m\u001b[0m\u001b[0m\n\u001b[1;32m    513\u001b[0m     \u001b[0;32melse\u001b[0m\u001b[0;34m:\u001b[0m\u001b[0;34m\u001b[0m\u001b[0;34m\u001b[0m\u001b[0m\n\u001b[0;32m--> 514\u001b[0;31m         \u001b[0;32mraise\u001b[0m \u001b[0mValueError\u001b[0m\u001b[0;34m(\u001b[0m\u001b[0;34m\"Something went wrong..\"\u001b[0m\u001b[0;34m)\u001b[0m \u001b[0;31m##possible to pass the error msg from the program?\u001b[0m\u001b[0;34m\u001b[0m\u001b[0;34m\u001b[0m\u001b[0m\n\u001b[0m\u001b[1;32m    515\u001b[0m \u001b[0;34m\u001b[0m\u001b[0m\n\u001b[1;32m    516\u001b[0m     \u001b[0;32mreturn\u001b[0m\u001b[0;34m\u001b[0m\u001b[0;34m\u001b[0m\u001b[0m\n",
      "\u001b[0;31mValueError\u001b[0m: Something went wrong.."
     ]
    }
   ],
   "source": [
    "test_pipeline_data()"
   ]
  },
  {
   "cell_type": "code",
   "execution_count": null,
   "metadata": {},
   "outputs": [],
   "source": []
  }
 ],
 "metadata": {
  "kernelspec": {
   "display_name": "Python 3",
   "language": "python",
   "name": "python3"
  },
  "language_info": {
   "codemirror_mode": {
    "name": "ipython",
    "version": 3
   },
   "file_extension": ".py",
   "mimetype": "text/x-python",
   "name": "python",
   "nbconvert_exporter": "python",
   "pygments_lexer": "ipython3",
   "version": "3.7.3"
  }
 },
 "nbformat": 4,
 "nbformat_minor": 4
}
