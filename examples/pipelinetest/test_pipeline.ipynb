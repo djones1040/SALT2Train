{
 "cells": [
  {
   "cell_type": "code",
   "execution_count": 1,
   "metadata": {},
   "outputs": [],
   "source": [
    "import sys\n",
    "sys.path.append('/home/mi/salt3/SALT3/salt3')\n",
    "import pandas as pd\n",
    "from importlib import reload\n",
    "import pipeline.pipeline\n",
    "reload(pipeline.pipeline)\n",
    "from pipeline.pipeline import *\n"
   ]
  },
  {
   "cell_type": "code",
   "execution_count": 2,
   "metadata": {},
   "outputs": [],
   "source": [
    "def test_pipeline():\n",
    "    pipe = SALT3pipe(finput='sampleinput.txt')\n",
    "    pipe.configure()\n",
    "    pipe.glue(['sim','train'])\n",
    "    pipe.glue(['sim','lcfit'],on='phot')\n",
    "#     pipe.glue(['train','lcfit'],on='model')\n",
    "    pipe.glue(['lcfit','getmu'])\n",
    "    pipe.glue(['getmu','cosmofit'])\n",
    "    pipe.run()"
   ]
  },
  {
   "cell_type": "code",
   "execution_count": 3,
   "metadata": {},
   "outputs": [
    {
     "name": "stdout",
     "output_type": "stream",
     "text": [
      "Adding/modifying key COLOR=True in [FLAGS]\n",
      "Adding/modifying key STRETCH=True in [FLAGS]\n",
      "Adding/modifying key DIST_PEAK=0.0 in [COLOR]\n",
      "input file saved as: pipelinetest/TEST_BYOSED.params\n",
      "pipelinetest/TEST_BYOSED.params is copied to byosed/BYOSED.params\n",
      "Load base sim input file.. simulation/SIMGEN_BYOSEDTEST.INPUT\n",
      "Setting NGEN_LC = 20\n",
      "Setting GENSOURCE = RANDOM\n",
      "Setting GENRANGE_REDSHIFT = 0.01 0.1\n",
      "Write sim input to file: pipelinetest/TEST_SIMGEN_BYOSEDTEST.INPUT\n",
      "Adding/modifying key snlist=exampledata/snana/data/SALT3TEST_SIMPLE.LIST in [iodata]\n",
      "Adding/modifying key waverange=2000,9200 in [trainparams]\n",
      "Adding/modifying key n_steps_mcmc=50 in [mcmcparams]\n",
      "Adding/modifying key n_burnin_mcmc=10 in [mcmcparams]\n",
      "input file saved as: pipelinetest/TEST_SALT.conf\n",
      "Adding/modifying key VERSION_PHOTOMETRY=SALT3TEST_SIMPLE in &SNLCINP\n",
      "Adding/modifying key KCOR_FILE=kcor/kcor_PS1_LOWZ_COMBINED.fits in &SNLCINP\n",
      "Adding/modifying key FILTLIST_FIT=bcdeghi in &FITINP\n",
      "Write fit input to file: pipelinetest/snfit_TEST.nml\n",
      "Adding/modifying key file=ps1sim_default.fitres\n",
      "Adding/modifying key prefix=test_salt2mu\n",
      "input file saved as: pipelinetest/test_salt2mu.input\n",
      "Connecting  ['sim', 'train']\n",
      "Adding/modifying key snlist=/home/mi/snana/SNDATA_ROOT/SIM/BYOSEDTEST/BYOSEDTEST.LIST in [iodata]\n",
      "input file saved as: pipelinetest/TEST_SALT.conf\n",
      "Connecting  ['sim', 'lcfit']\n",
      "Adding/modifying key VERSION_PHOTOMETRY=BYOSEDTEST in &SNLCINP\n",
      "Write fit input to file: pipelinetest/snfit_TEST.nml\n",
      "Connecting  ['lcfit', 'getmu']\n",
      "Adding/modifying key file=snfit_test.FITRES.TEXT\n",
      "input file saved as: pipelinetest/test_salt2mu.input\n",
      "Connecting  ['getmu', 'cosmofit']\n",
      "Running snlc_sim.exe pipelinetest/TEST_SIMGEN_BYOSEDTEST.INPUT\n"
     ]
    },
    {
     "ename": "ValueError",
     "evalue": "Something went wrong..",
     "output_type": "error",
     "traceback": [
      "\u001b[0;31m---------------------------------------------------------------------------\u001b[0m",
      "\u001b[0;31mValueError\u001b[0m                                Traceback (most recent call last)",
      "\u001b[0;32m<ipython-input-3-b55dbbf64ace>\u001b[0m in \u001b[0;36m<module>\u001b[0;34m\u001b[0m\n\u001b[0;32m----> 1\u001b[0;31m \u001b[0mtest_pipeline\u001b[0m\u001b[0;34m(\u001b[0m\u001b[0;34m)\u001b[0m\u001b[0;34m\u001b[0m\u001b[0;34m\u001b[0m\u001b[0m\n\u001b[0m",
      "\u001b[0;32m<ipython-input-2-2c75bc2092b8>\u001b[0m in \u001b[0;36mtest_pipeline\u001b[0;34m()\u001b[0m\n\u001b[1;32m      7\u001b[0m     \u001b[0mpipe\u001b[0m\u001b[0;34m.\u001b[0m\u001b[0mglue\u001b[0m\u001b[0;34m(\u001b[0m\u001b[0;34m[\u001b[0m\u001b[0;34m'lcfit'\u001b[0m\u001b[0;34m,\u001b[0m\u001b[0;34m'getmu'\u001b[0m\u001b[0;34m]\u001b[0m\u001b[0;34m)\u001b[0m\u001b[0;34m\u001b[0m\u001b[0;34m\u001b[0m\u001b[0m\n\u001b[1;32m      8\u001b[0m     \u001b[0mpipe\u001b[0m\u001b[0;34m.\u001b[0m\u001b[0mglue\u001b[0m\u001b[0;34m(\u001b[0m\u001b[0;34m[\u001b[0m\u001b[0;34m'getmu'\u001b[0m\u001b[0;34m,\u001b[0m\u001b[0;34m'cosmofit'\u001b[0m\u001b[0;34m]\u001b[0m\u001b[0;34m)\u001b[0m\u001b[0;34m\u001b[0m\u001b[0;34m\u001b[0m\u001b[0m\n\u001b[0;32m----> 9\u001b[0;31m     \u001b[0mpipe\u001b[0m\u001b[0;34m.\u001b[0m\u001b[0mrun\u001b[0m\u001b[0;34m(\u001b[0m\u001b[0;34m)\u001b[0m\u001b[0;34m\u001b[0m\u001b[0;34m\u001b[0m\u001b[0m\n\u001b[0m",
      "\u001b[0;32m~/salt3/SALT3/salt3/pipeline/pipeline.py\u001b[0m in \u001b[0;36mrun\u001b[0;34m(self)\u001b[0m\n\u001b[1;32m     70\u001b[0m \u001b[0;34m\u001b[0m\u001b[0m\n\u001b[1;32m     71\u001b[0m     \u001b[0;32mdef\u001b[0m \u001b[0mrun\u001b[0m\u001b[0;34m(\u001b[0m\u001b[0mself\u001b[0m\u001b[0;34m)\u001b[0m\u001b[0;34m:\u001b[0m\u001b[0;34m\u001b[0m\u001b[0;34m\u001b[0m\u001b[0m\n\u001b[0;32m---> 72\u001b[0;31m         \u001b[0mself\u001b[0m\u001b[0;34m.\u001b[0m\u001b[0mSimulation\u001b[0m\u001b[0;34m.\u001b[0m\u001b[0mrun\u001b[0m\u001b[0;34m(\u001b[0m\u001b[0;34m)\u001b[0m\u001b[0;34m\u001b[0m\u001b[0;34m\u001b[0m\u001b[0m\n\u001b[0m\u001b[1;32m     73\u001b[0m         \u001b[0mself\u001b[0m\u001b[0;34m.\u001b[0m\u001b[0mTraining\u001b[0m\u001b[0;34m.\u001b[0m\u001b[0mrun\u001b[0m\u001b[0;34m(\u001b[0m\u001b[0;34m)\u001b[0m\u001b[0;34m\u001b[0m\u001b[0;34m\u001b[0m\u001b[0m\n\u001b[1;32m     74\u001b[0m         \u001b[0mself\u001b[0m\u001b[0;34m.\u001b[0m\u001b[0mLCFitting\u001b[0m\u001b[0;34m.\u001b[0m\u001b[0mrun\u001b[0m\u001b[0;34m(\u001b[0m\u001b[0;34m)\u001b[0m\u001b[0;34m\u001b[0m\u001b[0;34m\u001b[0m\u001b[0m\n",
      "\u001b[0;32m~/salt3/SALT3/salt3/pipeline/pipeline.py\u001b[0m in \u001b[0;36mrun\u001b[0;34m(self)\u001b[0m\n\u001b[1;32m    166\u001b[0m                 \u001b[0;32mfor\u001b[0m \u001b[0margitem\u001b[0m \u001b[0;32min\u001b[0m \u001b[0marg\u001b[0m\u001b[0;34m.\u001b[0m\u001b[0msplit\u001b[0m\u001b[0;34m(\u001b[0m\u001b[0;34m' '\u001b[0m\u001b[0;34m)\u001b[0m\u001b[0;34m:\u001b[0m\u001b[0;34m\u001b[0m\u001b[0;34m\u001b[0m\u001b[0m\n\u001b[1;32m    167\u001b[0m                     \u001b[0margs\u001b[0m\u001b[0;34m.\u001b[0m\u001b[0mappend\u001b[0m\u001b[0;34m(\u001b[0m\u001b[0margitem\u001b[0m\u001b[0;34m)\u001b[0m\u001b[0;34m\u001b[0m\u001b[0;34m\u001b[0m\u001b[0m\n\u001b[0;32m--> 168\u001b[0;31m         \u001b[0m_run_external_pro\u001b[0m\u001b[0;34m(\u001b[0m\u001b[0mself\u001b[0m\u001b[0;34m.\u001b[0m\u001b[0mpro\u001b[0m\u001b[0;34m,\u001b[0m \u001b[0margs\u001b[0m\u001b[0;34m)\u001b[0m\u001b[0;34m\u001b[0m\u001b[0;34m\u001b[0m\u001b[0m\n\u001b[0m\u001b[1;32m    169\u001b[0m \u001b[0;34m\u001b[0m\u001b[0m\n\u001b[1;32m    170\u001b[0m     \u001b[0;32mdef\u001b[0m \u001b[0m_get_input_info\u001b[0m\u001b[0;34m(\u001b[0m\u001b[0mself\u001b[0m\u001b[0;34m)\u001b[0m\u001b[0;34m:\u001b[0m\u001b[0;34m\u001b[0m\u001b[0;34m\u001b[0m\u001b[0m\n",
      "\u001b[0;32m~/salt3/SALT3/salt3/pipeline/pipeline.py\u001b[0m in \u001b[0;36m_run_external_pro\u001b[0;34m(pro, args)\u001b[0m\n\u001b[1;32m    427\u001b[0m         \u001b[0mprint\u001b[0m\u001b[0;34m(\u001b[0m\u001b[0;34m\"{} finished successfully.\"\u001b[0m\u001b[0;34m.\u001b[0m\u001b[0mformat\u001b[0m\u001b[0;34m(\u001b[0m\u001b[0mpro\u001b[0m\u001b[0;34m.\u001b[0m\u001b[0mstrip\u001b[0m\u001b[0;34m(\u001b[0m\u001b[0;34m)\u001b[0m\u001b[0;34m)\u001b[0m\u001b[0;34m)\u001b[0m\u001b[0;34m\u001b[0m\u001b[0;34m\u001b[0m\u001b[0m\n\u001b[1;32m    428\u001b[0m     \u001b[0;32melse\u001b[0m\u001b[0;34m:\u001b[0m\u001b[0;34m\u001b[0m\u001b[0;34m\u001b[0m\u001b[0m\n\u001b[0;32m--> 429\u001b[0;31m         \u001b[0;32mraise\u001b[0m \u001b[0mValueError\u001b[0m\u001b[0;34m(\u001b[0m\u001b[0;34m\"Something went wrong..\"\u001b[0m\u001b[0;34m)\u001b[0m \u001b[0;31m##possible to pass the error msg from the program?\u001b[0m\u001b[0;34m\u001b[0m\u001b[0;34m\u001b[0m\u001b[0m\n\u001b[0m\u001b[1;32m    430\u001b[0m \u001b[0;34m\u001b[0m\u001b[0m\n\u001b[1;32m    431\u001b[0m     \u001b[0;32mreturn\u001b[0m\u001b[0;34m\u001b[0m\u001b[0;34m\u001b[0m\u001b[0m\n",
      "\u001b[0;31mValueError\u001b[0m: Something went wrong.."
     ]
    }
   ],
   "source": [
    "test_pipeline()"
   ]
  },
  {
   "cell_type": "code",
   "execution_count": null,
   "metadata": {},
   "outputs": [],
   "source": []
  },
  {
   "cell_type": "code",
   "execution_count": null,
   "metadata": {},
   "outputs": [],
   "source": [
    "pipe = SALT3pipe(finput='sampleinput_test.txt')\n",
    "pipe.configure()\n",
    "pipe.glue(['lcfit','getmu'])"
   ]
  },
  {
   "cell_type": "code",
   "execution_count": null,
   "metadata": {},
   "outputs": [],
   "source": [
    "pipe.glue(['getmu','cosmofit'])\n",
    "pipe.CosmoFit.run()"
   ]
  }
 ],
 "metadata": {
  "kernelspec": {
   "display_name": "Python 3",
   "language": "python",
   "name": "python3"
  },
  "language_info": {
   "codemirror_mode": {
    "name": "ipython",
    "version": 3
   },
   "file_extension": ".py",
   "mimetype": "text/x-python",
   "name": "python",
   "nbconvert_exporter": "python",
   "pygments_lexer": "ipython3",
   "version": "3.6.7"
  }
 },
 "nbformat": 4,
 "nbformat_minor": 2
}
