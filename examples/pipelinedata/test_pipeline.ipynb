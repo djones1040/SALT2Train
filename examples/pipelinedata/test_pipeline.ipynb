{
 "cells": [
  {
   "cell_type": "code",
   "execution_count": 65,
   "metadata": {},
   "outputs": [],
   "source": [
    "import sys\n",
    "sys.path.append('/home/mi/salt3/SALT3/salt3')\n",
    "import pandas as pd\n",
    "from importlib import reload\n",
    "import pipeline.pipeline\n",
    "reload(pipeline.pipeline)\n",
    "from pipeline.pipeline import *\n"
   ]
  },
  {
   "cell_type": "code",
   "execution_count": 66,
   "metadata": {},
   "outputs": [],
   "source": [
    "def test_pipeline():\n",
    "    pipe = SALT3pipe(finput='sampleinput_test.txt')\n",
    "    pipe.configure()\n",
    "    pipe.glue(['sim','train'])\n",
    "    pipe.glue(['sim','lcfit'],on='phot')\n",
    "#     pipe.glue(['train','lcfit'],on='model')\n",
    "    pipe.run()"
   ]
  },
  {
   "cell_type": "code",
   "execution_count": 67,
   "metadata": {},
   "outputs": [
    {
     "name": "stdout",
     "output_type": "stream",
     "text": [
      "Adding/modifying key COLOR=True in [FLAGS]\n",
      "Adding/modifying key STRETCH=True in [FLAGS]\n",
      "Adding/modifying key DIST_PEAK=0.0 in [COLOR]\n",
      "input file saved as: pipelinetest/TEST_BYOSED.params\n",
      "pipelinetest/TEST_BYOSED.params is copied to BYOSED/BYOSED.params\n",
      "Load base sim input file.. SIMGEN_BYOSEDTEST.INPUT\n",
      "Setting NGEN_LC = 20\n",
      "Setting GENSOURCE = RANDOM\n",
      "Setting GENRANGE_REDSHIFT = 0.01 0.1\n",
      "Write sim input to file: pipelinetest/TEST_SIMGEN_BYOSEDTEST.INPUT\n",
      "Adding/modifying key snlist=exampledata/snana/data/SALT3TEST_SIMPLE.LIST in [iodata]\n",
      "Adding/modifying key waverange=2000,9200 in [trainparams]\n",
      "Adding/modifying key n_steps_mcmc=50 in [mcmcparams]\n",
      "Adding/modifying key n_burnin_mcmc=10 in [mcmcparams]\n",
      "input file saved as: pipelinetest/TEST_SALT.conf\n",
      "Adding/modifying key VERSION_PHOTOMETRY=SALT3TEST_SIMPLE in &SNLCINP\n",
      "Adding/modifying key KCOR_FILE=kcor/kcor_PS1_LOWZ_COMBINED.fits in &SNLCINP\n",
      "Adding/modifying key FILTLIST_FIT=bcdeghi in &FITINP\n",
      "Write fit input to file: pipelinetest/snfit_TEST.nml\n",
      "Connecting  ['sim', 'train']\n",
      "Adding/modifying key snlist=/home/mi/snana/SNDATA_ROOT/SIM/BYOSEDTEST/BYOSEDTEST.LIST in [iodata]\n",
      "input file saved as: pipelinetest/TEST_SALT.conf\n",
      "Connecting  ['sim', 'lcfit']\n",
      "Adding/modifying key VERSION_PHOTOMETRY=BYOSEDTEST in &SNLCINP\n",
      "Write fit input to file: pipelinetest/snfit_TEST.nml\n",
      "pipelinetest/TEST_SIMGEN_BYOSEDTEST.INPUT\n",
      "args------ ['pipelinetest/TEST_SIMGEN_BYOSEDTEST.INPUT']\n",
      "Running snlc_sim.exe pipelinetest/TEST_SIMGEN_BYOSEDTEST.INPUT\n",
      "snlc_sim.exe finished successfully.\n",
      "-c\n",
      "pipelinetest/TEST_SALT.conf\n",
      "--stage validate\n",
      "args------ ['-c', 'pipelinetest/TEST_SALT.conf', '--stage', 'validate']\n",
      "Running TrainSALT.py -c pipelinetest/TEST_SALT.conf --stage validate\n",
      "TrainSALT.py finished successfully.\n",
      "pipelinetest/snfit_TEST.nml\n",
      "args------ ['pipelinetest/snfit_TEST.nml']\n",
      "Running snlc_fit.exe pipelinetest/snfit_TEST.nml\n",
      "snlc_fit.exe finished successfully.\n"
     ]
    }
   ],
   "source": [
    "test_pipeline()"
   ]
  },
  {
   "cell_type": "code",
   "execution_count": null,
   "metadata": {},
   "outputs": [],
   "source": []
  },
  {
   "cell_type": "code",
   "execution_count": 2,
   "metadata": {},
   "outputs": [],
   "source": [
    "pipe = SALT3pipe(finput='sampleinput_test.txt')\n"
   ]
  },
  {
   "cell_type": "code",
   "execution_count": 3,
   "metadata": {},
   "outputs": [
    {
     "name": "stdout",
     "output_type": "stream",
     "text": [
      "Load base sim input file.. SIMGEN_BYOSEDTEST.INPUT\n",
      "No modification on the input file, keeping SIMGEN_BYOSEDTEST.INPUT as input\n"
     ]
    }
   ],
   "source": [
    "pipe.Simulation.configure(baseinput='SIMGEN_BYOSEDTEST.INPUT',outname='pipelinetest/TEST_SIMGEN_BYOSEDTEST.INPUT')"
   ]
  },
  {
   "cell_type": "code",
   "execution_count": 4,
   "metadata": {},
   "outputs": [
    {
     "name": "stdout",
     "output_type": "stream",
     "text": [
      "No modification on the input file, keeping SALT_SNANA.conf as input\n"
     ]
    }
   ],
   "source": [
    "pipe.Training.configure(baseinput='SALT_SNANA.conf',outname='pipelinetest/TEST_SALT.conf')"
   ]
  },
  {
   "cell_type": "code",
   "execution_count": 5,
   "metadata": {},
   "outputs": [
    {
     "name": "stdout",
     "output_type": "stream",
     "text": [
      "No modification on the input file, keeping snfit_base.nml as input\n"
     ]
    }
   ],
   "source": [
    "pipe.LCFitting.configure(baseinput='snfit_base.nml',outname='pipelinetest/snfit_TEST.nml')"
   ]
  },
  {
   "cell_type": "code",
   "execution_count": 6,
   "metadata": {},
   "outputs": [
    {
     "name": "stdout",
     "output_type": "stream",
     "text": [
      "key                                    FITMODEL_NAME\n",
      "section                                       FITINP\n",
      "value      /home/mi/snana/SNDATA_ROOT/SIM/BYOSEDTEST\n",
      "Name: model, dtype: object\n",
      "Connecting  ['sim', 'lcfit']\n",
      "Adding/modifying key FITMODEL_NAME=/home/mi/snana/SNDATA_ROOT/SIM/BYOSEDTEST in &FITINP\n",
      "Write fit input to file: pipelinetest/snfit_TEST.nml\n"
     ]
    }
   ],
   "source": [
    "pipe.glue(['sim','lcfit'],on='model')"
   ]
  },
  {
   "cell_type": "code",
   "execution_count": 297,
   "metadata": {},
   "outputs": [
    {
     "data": {
      "text/html": [
       "<div>\n",
       "<style scoped>\n",
       "    .dataframe tbody tr th:only-of-type {\n",
       "        vertical-align: middle;\n",
       "    }\n",
       "\n",
       "    .dataframe tbody tr th {\n",
       "        vertical-align: top;\n",
       "    }\n",
       "\n",
       "    .dataframe thead th {\n",
       "        text-align: right;\n",
       "    }\n",
       "</style>\n",
       "<table border=\"1\" class=\"dataframe\">\n",
       "  <thead>\n",
       "    <tr style=\"text-align: right;\">\n",
       "      <th></th>\n",
       "      <th>key</th>\n",
       "      <th>section</th>\n",
       "      <th>value</th>\n",
       "    </tr>\n",
       "    <tr>\n",
       "      <th>type</th>\n",
       "      <th></th>\n",
       "      <th></th>\n",
       "      <th></th>\n",
       "    </tr>\n",
       "  </thead>\n",
       "  <tbody>\n",
       "    <tr>\n",
       "      <th>phot</th>\n",
       "      <td>VERSION_PHOTOMETRY</td>\n",
       "      <td>SNLCINP</td>\n",
       "      <td>BYOSEDTEST</td>\n",
       "    </tr>\n",
       "    <tr>\n",
       "      <th>model</th>\n",
       "      <td>FITMODEL_NAME</td>\n",
       "      <td>FITINP</td>\n",
       "      <td>SALT2.JLA-B14</td>\n",
       "    </tr>\n",
       "  </tbody>\n",
       "</table>\n",
       "</div>"
      ],
      "text/plain": [
       "                      key  section          value\n",
       "type                                             \n",
       "phot   VERSION_PHOTOMETRY  SNLCINP     BYOSEDTEST\n",
       "model       FITMODEL_NAME   FITINP  SALT2.JLA-B14"
      ]
     },
     "execution_count": 297,
     "metadata": {},
     "output_type": "execute_result"
    }
   ],
   "source": [
    "pipe.LCFitting._get_input_info()"
   ]
  },
  {
   "cell_type": "code",
   "execution_count": 23,
   "metadata": {},
   "outputs": [
    {
     "data": {
      "text/plain": [
       "0"
      ]
     },
     "execution_count": 23,
     "metadata": {},
     "output_type": "execute_result"
    }
   ],
   "source": [
    "s = 'abcef'\n",
    "s.find('abc')"
   ]
  },
  {
   "cell_type": "code",
   "execution_count": 31,
   "metadata": {},
   "outputs": [
    {
     "data": {
      "text/plain": [
       "['abcef', None]"
      ]
     },
     "execution_count": 31,
     "metadata": {},
     "output_type": "execute_result"
    }
   ],
   "source": [
    "[s]+[None]"
   ]
  },
  {
   "cell_type": "code",
   "execution_count": null,
   "metadata": {},
   "outputs": [],
   "source": []
  }
 ],
 "metadata": {
  "kernelspec": {
   "display_name": "Python 3",
   "language": "python",
   "name": "python3"
  },
  "language_info": {
   "codemirror_mode": {
    "name": "ipython",
    "version": 3
   },
   "file_extension": ".py",
   "mimetype": "text/x-python",
   "name": "python",
   "nbconvert_exporter": "python",
   "pygments_lexer": "ipython3",
   "version": "3.6.8"
  }
 },
 "nbformat": 4,
 "nbformat_minor": 2
}
